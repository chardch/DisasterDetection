{
 "cells": [
  {
   "cell_type": "code",
   "execution_count": 16,
   "metadata": {},
   "outputs": [],
   "source": [
    "import os\n",
    "\n",
    "import numpy as np\n",
    "import pandas as pd\n",
    "import rasterio\n",
    "from rasterio.plot import show"
   ]
  },
  {
   "cell_type": "code",
   "execution_count": null,
   "metadata": {},
   "outputs": [],
   "source": [
    "# Split out 6 bands into 2 different images, before and after tsunami\n",
    "\n",
    "BASE_DIR = '/Users/apando/school/cs230/project/datasets/abcddataset/ABCDdataset/resized/'\n",
    "pair_counter = 0\n",
    "\n",
    "for fname in os.listdir(BASE_DIR + 'patch-pairs/'):\n",
    "    if not fname.endswith(\".tif\"):\n",
    "        continue\n",
    "        \n",
    "    with rasterio.open(BASE_DIR + 'patch-pairs/' + fname) as dataset:\n",
    "        before_img = dataset.read([1,2,3])\n",
    "        after_img = dataset.read([4,5,6])\n",
    "        \n",
    "        out_meta = {\n",
    "            \"driver\": \"JPEG\",\n",
    "            \"height\": 128,\n",
    "            \"width\": 128,\n",
    "            \"count\": 3,\n",
    "            \"dtype\": np.uint8\n",
    "        }     \n",
    "        with rasterio.open(BASE_DIR + 'pre-event/' + fname, 'w', **out_meta) as dest:\n",
    "            dest.write(before_img)\n",
    "            \n",
    "        with rasterio.open(BASE_DIR + 'post-event/' + fname, 'w', **out_meta) as dest:            \n",
    "            dest.write(after_img)\n",
    "            \n",
    "    pair_counter += 1\n",
    "    if pair_counter % 1000 == 0:\n",
    "        print(\"Processed {0} pairs... curr pair: {1}\".format(pair_counter, fname))\n",
    "    \n",
    "print(\"Split {} building pairs\".format(pair_counter))"
   ]
  },
  {
   "cell_type": "code",
   "execution_count": null,
   "metadata": {},
   "outputs": [],
   "source": [
    "# Once again split out post-tsunami images, by class. \n",
    "# For now, ignore k-fold validation and group them together.\n",
    "\n",
    "BASE_DIR = '/Users/apando/school/cs230/project/datasets/abcddataset/ABCDdataset/resized/'\n",
    "\n",
    "for fname in os.listdir(BASE_DIR + '5fold-list'):\n",
    "    curr_set = pd.read_csv(BASE_DIR + '5fold-list/' + fname, names=['img_fname', 'is_damaged'])\n",
    "    for dmg_class, group in curr_set.groupby(['is_damaged']):\n",
    "        if dmg_class:\n",
    "            dest_dir = BASE_DIR + 'post-event/damage/{}'\n",
    "        else:\n",
    "            dest_dir = BASE_DIR + 'post-event/no_damage/{}' \n",
    "            \n",
    "        for _, img_fname in group['img_fname'].iteritems(): \n",
    "            os.system('mv {0} {1}'.format(BASE_DIR + 'post-event/' + img_fname, dest_dir.format(img_fname)))\n",
    "    \n",
    "    \n"
   ]
  },
  {
   "cell_type": "code",
   "execution_count": 17,
   "metadata": {},
   "outputs": [],
   "source": [
    "d = pd.DataFrame({'a':[1,1,2,3,4,4], 'b':['a','b','c','d','e','f']})"
   ]
  },
  {
   "cell_type": "code",
   "execution_count": 24,
   "metadata": {},
   "outputs": [
    {
     "name": "stdout",
     "output_type": "stream",
     "text": [
      "1\n",
      "1\n",
      "2\n",
      "3\n",
      "4\n",
      "4\n"
     ]
    }
   ],
   "source": [
    "for name, group in d.groupby(['a']):\n",
    "    for _, v in group['a'].iteritems():\n",
    "        print(v)"
   ]
  },
  {
   "cell_type": "code",
   "execution_count": null,
   "metadata": {},
   "outputs": [],
   "source": []
  }
 ],
 "metadata": {
  "kernelspec": {
   "display_name": "Python 3",
   "language": "python",
   "name": "python3"
  },
  "language_info": {
   "codemirror_mode": {
    "name": "ipython",
    "version": 3
   },
   "file_extension": ".py",
   "mimetype": "text/x-python",
   "name": "python",
   "nbconvert_exporter": "python",
   "pygments_lexer": "ipython3",
   "version": "3.6.8"
  }
 },
 "nbformat": 4,
 "nbformat_minor": 2
}
